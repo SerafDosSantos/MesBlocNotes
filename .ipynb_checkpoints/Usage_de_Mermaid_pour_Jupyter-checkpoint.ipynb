{
  "cells": [
    {
      "cell_type": "markdown",
      "metadata": {
        "id": "whC6Qc5rladL"
      },
      "source": [
        "## Usage de Mermaid dans les blocnotes Jupyter"
      ]
    },
    {
      "cell_type": "code",
      "execution_count": null,
      "metadata": {
        "colab": {
          "base_uri": "https://localhost:8080/",
          "height": 135
        },
        "id": "GF4E-7BzlZDT",
        "outputId": "c15a11b8-a884-41ac-eb5e-42a0b8f8be3a"
      },
      "outputs": [],
      "source": [
        "import md_mermaid\n",
        "\n",
        "```\n",
        "erDiagram\n",
        "    CUSTOMER ||--o{ ORDER : places\n",
        "    ORDER ||--|{ LINE-ITEM : contains\n",
        "    CUSTOMER }|..|{ DELIVERY-ADDRESS : uses\n",
        "```"
      ]
    },
    {
      "cell_type": "code",
      "execution_count": null,
      "metadata": {
        "colab": {
          "base_uri": "https://localhost:8080/"
        },
        "id": "kHOdlKqtplVG",
        "outputId": "39442ce7-a305-4d9f-b903-ebcf14c751a5"
      },
      "outputs": [],
      "source": [
        "from IPython.core.display import display_html\n",
        "import markdown\n",
        "import IPython\n",
        "\n",
        "text = \"\"\"\n",
        "# Title\n",
        "\n",
        "Some text.\n",
        "\n",
        "​~~~mermaid\n",
        "graph TB\n",
        "A --> B\n",
        "B --> C\n",
        "​~~~\n",
        "\n",
        "Some other text.\n",
        "\n",
        "​~~~mermaid\n",
        "graph TB\n",
        "D --> E\n",
        "E --> F\n",
        "​~~~\n",
        "\"\"\"\n",
        "\n",
        "html = markdown.markdown(text, extensions=['md_mermaid'])\n",
        "\n",
        "display_html(html)\n",
        "\n"
      ]
    },
    {
      "cell_type": "markdown",
      "metadata": {
        "id": "PQg7vs46tfVx"
      },
      "source": [
        "<script src=\"https://cdn.jsdelivr.net/npm/mermaid/dist/mermaid.min.js\"></script>\n",
        "\n",
        "<h1>Title</h1>\n",
        "<p>Some text.</p>\n",
        "\n",
        "<div class=\"mermaid\">\n",
        "graph TB\n",
        "A --> B\n",
        "B --> C\n",
        "</div>\n",
        "\n",
        "<p>Some other text.</p>\n",
        "\n",
        "<div class=\"mermaid\">\n",
        "graph TB\n",
        "D --> E\n",
        "E --> F\n",
        "</div>\n",
        "\n",
        "<script>mermaid.initialize({startOnLoad:true});</script>"
      ]
    }
  ],
  "metadata": {
    "colab": {
      "authorship_tag": "ABX9TyP3rrdm3uEojfn+KTAYddwe",
      "mount_file_id": "1pCA7Bul1FEh_E3yg4Mss4-V73A0SoT7J",
      "name": "Mermaid Example in Jupyter Notebook.ipynb",
      "provenance": []
    },
    "kernelspec": {
      "display_name": "Python 3 (ipykernel)",
      "language": "python",
      "name": "python3"
    }
  },
  "nbformat": 4,
  "nbformat_minor": 0
}
