{
 "cells": [
  {
   "cell_type": "code",
   "execution_count": 1,
   "metadata": {},
   "outputs": [
    {
     "data": {
      "text/html": [
       "<script src=\"//cdn.rawgit.com/bollwyvl/53e64cdafba38461943b/raw/0815758d591dfaf0f4918b388aed1bf11d82160d/mermaid.full.js\"></script>\n",
       "<style>\n",
       "    .mermaid *{font-family: sans-serif; }\n",
       "    .mermaid .node, .mermaid .cluster{\n",
       "      fill: white !important;\n",
       "      stroke: black !important;\n",
       "      stroke-width: 1px !important;\n",
       "    }\n",
       "    .mermaid div{\n",
       "      text-align: center;\n",
       "    }\n",
       "    .mermaid .label{\n",
       "      color: black;\n",
       "    }\n",
       "</style>\n",
       "<script>$(function(){\n",
       "    // mermaid load a touch weirdly: try immediately, but try again later if it's not available\n",
       "    var initMermaid = function(){\n",
       "        return (window.mermaid && mermaid.init()) || setTimeout(initMermaid, 50);         \n",
       "    }\n",
       "    initMermaid();\n",
       "\n",
       "    // for live editing, re-render only the text of the current cell\n",
       "    window.IPython && $(IPython.events).on(\"rendered.MarkdownCell\", function(evt, data){\n",
       "        // this is using a hacked mermaid that accepts some nodes!\n",
       "        mermaid.init(undefined, data.cell.element.find(\".mermaid\"));\n",
       "    });\n",
       "});</script>\n"
      ],
      "text/plain": [
       "<IPython.core.display.HTML object>"
      ]
     },
     "metadata": {},
     "output_type": "display_data"
    }
   ],
   "source": [
    "%%html\n",
    "<script src=\"//cdn.rawgit.com/bollwyvl/53e64cdafba38461943b/raw/0815758d591dfaf0f4918b388aed1bf11d82160d/mermaid.full.js\"></script>\n",
    "<style>\n",
    "    .mermaid *{font-family: sans-serif; }\n",
    "    .mermaid .node, .mermaid .cluster{\n",
    "      fill: white !important;\n",
    "      stroke: black !important;\n",
    "      stroke-width: 1px !important;\n",
    "    }\n",
    "    .mermaid div{\n",
    "      text-align: center;\n",
    "    }\n",
    "    .mermaid .label{\n",
    "      color: black;\n",
    "    }\n",
    "</style>\n",
    "<script>$(function(){\n",
    "    // mermaid load a touch weirdly: try immediately, but try again later if it's not available\n",
    "    var initMermaid = function(){\n",
    "        return (window.mermaid && mermaid.init()) || setTimeout(initMermaid, 50);         \n",
    "    }\n",
    "    initMermaid();\n",
    "\n",
    "    // for live editing, re-render only the text of the current cell\n",
    "    window.IPython && $(IPython.events).on(\"rendered.MarkdownCell\", function(evt, data){\n",
    "        // this is using a hacked mermaid that accepts some nodes!\n",
    "        mermaid.init(undefined, data.cell.element.find(\".mermaid\"));\n",
    "    });\n",
    "});</script>"
   ]
  },
  {
   "cell_type": "code",
   "execution_count": null,
   "metadata": {},
   "outputs": [],
   "source": []
  }
 ],
 "metadata": {
  "kernelspec": {
   "display_name": "Python 3 (ipykernel)",
   "language": "python",
   "name": "python3"
  },
  "language_info": {
   "codemirror_mode": {
    "name": "ipython",
    "version": 3
   },
   "file_extension": ".py",
   "mimetype": "text/x-python",
   "name": "python",
   "nbconvert_exporter": "python",
   "pygments_lexer": "ipython3",
   "version": "3.8.10"
  }
 },
 "nbformat": 4,
 "nbformat_minor": 4
}
