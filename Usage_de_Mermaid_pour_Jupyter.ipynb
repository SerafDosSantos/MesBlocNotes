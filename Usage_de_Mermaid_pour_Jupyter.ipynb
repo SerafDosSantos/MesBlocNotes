{
  "nbformat": 4,
  "nbformat_minor": 0,
  "metadata": {
    "colab": {
      "name": "Mermaid Example in Jupyter Notebook.ipynb",
      "provenance": [],
      "mount_file_id": "1pCA7Bul1FEh_E3yg4Mss4-V73A0SoT7J",
      "authorship_tag": "ABX9TyP3rrdm3uEojfn+KTAYddwe"
    },
    "kernelspec": {
      "name": "python3",
      "display_name": "Python 3"
    },
    "language_info": {
      "name": "python"
    }
  },
  "cells": [
    {
      "cell_type": "markdown",
      "source": [
        "## Mermaid in Markdown example"
      ],
      "metadata": {
        "id": "whC6Qc5rladL"
      }
    },
    {
      "cell_type": "code",
      "execution_count": 30,
      "metadata": {
        "id": "GF4E-7BzlZDT",
        "colab": {
          "base_uri": "https://localhost:8080/",
          "height": 135
        },
        "outputId": "c15a11b8-a884-41ac-eb5e-42a0b8f8be3a"
      },
      "outputs": [
        {
          "output_type": "error",
          "ename": "SyntaxError",
          "evalue": "ignored",
          "traceback": [
            "\u001b[0;36m  File \u001b[0;32m\"<ipython-input-30-b18cfa774f6d>\"\u001b[0;36m, line \u001b[0;32m3\u001b[0m\n\u001b[0;31m    ```md_mermaid\u001b[0m\n\u001b[0m    ^\u001b[0m\n\u001b[0;31mSyntaxError\u001b[0m\u001b[0;31m:\u001b[0m invalid syntax\n"
          ]
        }
      ],
      "source": [
        "import md_mermaid\n",
        "\n",
        "```md_mermaid\n",
        "erDiagram\n",
        "    CUSTOMER ||--o{ ORDER : places\n",
        "    ORDER ||--|{ LINE-ITEM : contains\n",
        "    CUSTOMER }|..|{ DELIVERY-ADDRESS : uses\n",
        "```"
      ]
    },
    {
      "cell_type": "code",
      "source": [
        "from IPython.core.display import display_html\n",
        "!pip install markdown\n",
        "!pip install md-mermaid\n",
        "\n",
        "from IPython.core.display import HTML\n",
        "import markdown\n",
        "import IPython\n",
        "\n",
        "text = \"\"\"\n",
        "# Title\n",
        "\n",
        "Some text.\n",
        "\n",
        "​~~~mermaid\n",
        "graph TB\n",
        "A --> B\n",
        "B --> C\n",
        "​~~~\n",
        "\n",
        "Some other text.\n",
        "\n",
        "​~~~mermaid\n",
        "graph TB\n",
        "D --> E\n",
        "E --> F\n",
        "​~~~\n",
        "\"\"\"\n",
        "\n",
        "html = markdown.markdown(text, extensions=['md_mermaid'])\n",
        "\n",
        "display_html(html)\n",
        "\n"
      ],
      "metadata": {
        "colab": {
          "base_uri": "https://localhost:8080/"
        },
        "id": "kHOdlKqtplVG",
        "outputId": "39442ce7-a305-4d9f-b903-ebcf14c751a5"
      },
      "execution_count": null,
      "outputs": [
        {
          "output_type": "stream",
          "name": "stdout",
          "text": [
            "Requirement already satisfied: markdown in /usr/local/lib/python3.7/dist-packages (3.3.6)\n",
            "Requirement already satisfied: importlib-metadata>=4.4 in /usr/local/lib/python3.7/dist-packages (from markdown) (4.10.1)\n",
            "Requirement already satisfied: typing-extensions>=3.6.4 in /usr/local/lib/python3.7/dist-packages (from importlib-metadata>=4.4->markdown) (3.10.0.2)\n",
            "Requirement already satisfied: zipp>=0.5 in /usr/local/lib/python3.7/dist-packages (from importlib-metadata>=4.4->markdown) (3.7.0)\n",
            "Requirement already satisfied: md-mermaid in /usr/local/lib/python3.7/dist-packages (0.1.1)\n",
            "Requirement already satisfied: markdown>=2.5 in /usr/local/lib/python3.7/dist-packages (from md-mermaid) (3.3.6)\n",
            "Requirement already satisfied: importlib-metadata>=4.4 in /usr/local/lib/python3.7/dist-packages (from markdown>=2.5->md-mermaid) (4.10.1)\n",
            "Requirement already satisfied: zipp>=0.5 in /usr/local/lib/python3.7/dist-packages (from importlib-metadata>=4.4->markdown>=2.5->md-mermaid) (3.7.0)\n",
            "Requirement already satisfied: typing-extensions>=3.6.4 in /usr/local/lib/python3.7/dist-packages (from importlib-metadata>=4.4->markdown>=2.5->md-mermaid) (3.10.0.2)\n"
          ]
        }
      ]
    },
    {
      "cell_type": "markdown",
      "source": [
        "<script src=\"https://cdn.jsdelivr.net/npm/mermaid/dist/mermaid.min.js\"></script>\n",
        "\n",
        "<h1>Title</h1>\n",
        "<p>Some text.</p>\n",
        "\n",
        "<div class=\"mermaid\">\n",
        "graph TB\n",
        "A --> B\n",
        "B --> C\n",
        "</div>\n",
        "\n",
        "<p>Some other text.</p>\n",
        "\n",
        "<div class=\"mermaid\">\n",
        "graph TB\n",
        "D --> E\n",
        "E --> F\n",
        "</div>\n",
        "\n",
        "<script>mermaid.initialize({startOnLoad:true});</script>"
      ],
      "metadata": {
        "id": "PQg7vs46tfVx"
      }
    }
  ]
}